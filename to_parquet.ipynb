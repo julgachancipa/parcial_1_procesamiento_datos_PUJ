{
 "cells": [
  {
   "cell_type": "code",
   "execution_count": 1,
   "id": "75b685cf",
   "metadata": {},
   "outputs": [
    {
     "name": "stdout",
     "output_type": "stream",
     "text": [
      "Requirement already satisfied: pyarrow in /home/codespace/.python/current/lib/python3.12/site-packages (19.0.1)\n",
      "Note: you may need to restart the kernel to use updated packages.\n"
     ]
    }
   ],
   "source": [
    "%pip install pyarrow"
   ]
  },
  {
   "cell_type": "code",
   "execution_count": 2,
   "id": "5d70aeb4",
   "metadata": {},
   "outputs": [],
   "source": [
    "import pandas as pd"
   ]
  },
  {
   "cell_type": "code",
   "execution_count": 5,
   "id": "bdb38021",
   "metadata": {},
   "outputs": [
    {
     "name": "stdout",
     "output_type": "stream",
     "text": [
      "Archivo CSV guardado correctamente.\n"
     ]
    }
   ],
   "source": [
    "import json\n",
    "import pandas as pd\n",
    "\n",
    "# Cargar el JSON desde el archivo\n",
    "with open(\"season_stats_202501.json\", \"r\", encoding=\"utf-8\") as file:\n",
    "    data = json.load(file)\n",
    "\n",
    "# Lista para almacenar los datos transformados\n",
    "matches = []\n",
    "\n",
    "# Recorrer la estructura del JSON\n",
    "for match_id, teams in data.items():\n",
    "    for team_id, team_info in teams.items():\n",
    "        team_details = team_info[\"team_details\"]\n",
    "        aggregate_stats = team_info[\"aggregate_stats\"]\n",
    "\n",
    "        # Recorrer cada jugador del equipo\n",
    "        for player_name, player_data in team_info[\"Player_stats\"].items():\n",
    "            player_details = player_data[\"player_details\"]\n",
    "            match_stats = player_data[\"Match_stats\"]\n",
    "\n",
    "            # Crear una fila con la información combinada\n",
    "            row = {\n",
    "                \"match_id\": match_id,\n",
    "                \"team_id\": team_details[\"team_id\"],\n",
    "                \"team_name\": team_details[\"team_name\"],\n",
    "                \"team_rating\": team_details[\"team_rating\"],\n",
    "                \"date\": team_details[\"date\"],\n",
    "                \"player_id\": player_details[\"player_id\"],\n",
    "                \"player_name\": player_details[\"player_name\"],\n",
    "                \"player_position\": player_details[\"player_position_info\"],\n",
    "                \"player_rating\": player_details[\"player_rating\"],\n",
    "            }\n",
    "\n",
    "            # Agregar estadísticas del equipo\n",
    "            row.update(aggregate_stats)\n",
    "\n",
    "            # Agregar estadísticas del jugador\n",
    "            row.update(match_stats)\n",
    "\n",
    "            matches.append(row)\n",
    "\n",
    "# Convertir la lista a un DataFrame\n",
    "df = pd.DataFrame(matches)\n",
    "\n",
    "# Guardar como CSV\n",
    "df.to_csv(\"season_stats_202501.csv\", index=False)\n",
    "\n",
    "print(\"Archivo CSV guardado correctamente.\")\n"
   ]
  },
  {
   "cell_type": "code",
   "execution_count": null,
   "id": "0733c745",
   "metadata": {},
   "outputs": [],
   "source": [
    "# Cargar JSON en pandas\n",
    "df = pd.read_json(\"season_stats_202501.json\")\n",
    "\n",
    "# Guardar como Parquet\n",
    "df.to_parquet(\"season_stats.parquet\", engine=\"pyarrow\")\n"
   ]
  },
  {
   "cell_type": "code",
   "execution_count": 5,
   "id": "f4d6a411",
   "metadata": {},
   "outputs": [
    {
     "name": "stdout",
     "output_type": "stream",
     "text": [
      "                                               1190418  \\\n",
      "166  {'Player_stats': {'Aaron Mooy': {'Match_stats'...   \n",
      "26   {'Player_stats': {'Aaron Mooy': None, 'Alex Ox...   \n",
      "211                                               None   \n",
      "183                                               None   \n",
      "15                                                None   \n",
      "\n",
      "                                               1190424  \\\n",
      "166                                               None   \n",
      "26                                                None   \n",
      "211  {'Player_stats': {'Adam Smith': None, 'Andrew ...   \n",
      "183  {'Player_stats': {'Adam Smith': {'Match_stats'...   \n",
      "15                                                None   \n",
      "\n",
      "                                               1190342  \\\n",
      "166                                               None   \n",
      "26                                                None   \n",
      "211                                               None   \n",
      "183                                               None   \n",
      "15   {'Player_stats': {'Aleksandar Dragovic': None,...   \n",
      "\n",
      "                                               1190356  \\\n",
      "166                                               None   \n",
      "26   {'Player_stats': {'Adam Lallana': {'Match_stat...   \n",
      "211                                               None   \n",
      "183                                               None   \n",
      "15                                                None   \n",
      "\n",
      "                                               1190430  \\\n",
      "166                                               None   \n",
      "26                                                None   \n",
      "211                                               None   \n",
      "183  {'Player_stats': {'Andreas Christensen': None,...   \n",
      "15   {'Player_stats': {'Andreas Christensen': {'Mat...   \n",
      "\n",
      "                                               1190381 1190395  \\\n",
      "166                                               None    None   \n",
      "26                                                None    None   \n",
      "211                                               None    None   \n",
      "183                                               None    None   \n",
      "15   {'Player_stats': {'Aaron Wan-Bissaka': None, '...    None   \n",
      "\n",
      "                                               1190183 1190197  \\\n",
      "166                                               None    None   \n",
      "26                                                None    None   \n",
      "211                                               None    None   \n",
      "183  {'Player_stats': {'Adam Smith': {'Match_stats'...    None   \n",
      "15                                                None    None   \n",
      "\n",
      "                                               1190550  ...  \\\n",
      "166                                               None  ...   \n",
      "26   {'Player_stats': {'Aaron Wan-Bissaka': None, '...  ...   \n",
      "211                                               None  ...   \n",
      "183                                               None  ...   \n",
      "15                                                None  ...   \n",
      "\n",
      "                                               1190548 1190549 1190207  \\\n",
      "166                                               None    None    None   \n",
      "26                                                None    None    None   \n",
      "211                                               None    None    None   \n",
      "183                                               None    None    None   \n",
      "15   {'Player_stats': {'Alex McCarthy': None, 'Andr...    None    None   \n",
      "\n",
      "                                               1190213 1190398  \\\n",
      "166                                               None    None   \n",
      "26                                                None    None   \n",
      "211  {'Player_stats': {'Anthony Knockaert': {'Match...    None   \n",
      "183                                               None    None   \n",
      "15                                                None    None   \n",
      "\n",
      "                                               1190429 1190415 1190373  \\\n",
      "166                                               None    None    None   \n",
      "26   {'Player_stats': {'Abdoulaye Doucouré': None, ...    None    None   \n",
      "211                                               None    None    None   \n",
      "183                                               None    None    None   \n",
      "15                                                None    None    None   \n",
      "\n",
      "                                               1190367 1190401  \n",
      "166  {'Player_stats': {'Aaron Mooy': {'Match_stats'...    None  \n",
      "26                                                None    None  \n",
      "211                                               None    None  \n",
      "183                                               None    None  \n",
      "15                                                None    None  \n",
      "\n",
      "[5 rows x 380 columns]\n"
     ]
    }
   ],
   "source": [
    "# Cargar el archivo Parquet\n",
    "df = pd.read_parquet(\"season_stats.parquet\", engine=\"pyarrow\")  # o engine=\"fastparquet\"\n",
    "\n",
    "# Mostrar las primeras filas\n",
    "print(df.head())"
   ]
  },
  {
   "cell_type": "code",
   "execution_count": null,
   "id": "65192d24",
   "metadata": {},
   "outputs": [],
   "source": []
  }
 ],
 "metadata": {
  "kernelspec": {
   "display_name": "Python 3",
   "language": "python",
   "name": "python3"
  },
  "language_info": {
   "codemirror_mode": {
    "name": "ipython",
    "version": 3
   },
   "file_extension": ".py",
   "mimetype": "text/x-python",
   "name": "python",
   "nbconvert_exporter": "python",
   "pygments_lexer": "ipython3",
   "version": "3.12.1"
  }
 },
 "nbformat": 4,
 "nbformat_minor": 5
}
