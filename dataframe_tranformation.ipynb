{
 "cells": [
  {
   "cell_type": "code",
   "execution_count": 1,
   "id": "75b685cf",
   "metadata": {},
   "outputs": [
    {
     "name": "stdout",
     "output_type": "stream",
     "text": [
      "Requirement already satisfied: pyarrow in /home/codespace/.python/current/lib/python3.12/site-packages (19.0.1)\n",
      "Note: you may need to restart the kernel to use updated packages.\n"
     ]
    }
   ],
   "source": [
    "%pip install pyarrow"
   ]
  },
  {
   "cell_type": "code",
   "execution_count": null,
   "id": "5d70aeb4",
   "metadata": {},
   "outputs": [],
   "source": [
    "import json\n",
    "import pandas as pd"
   ]
  },
  {
   "cell_type": "code",
   "execution_count": null,
   "id": "bdb38021",
   "metadata": {},
   "outputs": [
    {
     "name": "stdout",
     "output_type": "stream",
     "text": [
      "Archivo CSV guardado correctamente.\n"
     ]
    }
   ],
   "source": [
    "# Cargar el JSON desde el archivo\n",
    "with open(\"season_stats_202501.json\", \"r\", encoding=\"utf-8\") as file:\n",
    "    data = json.load(file)\n",
    "\n",
    "# Lista para almacenar los datos transformados\n",
    "matches = []\n",
    "\n",
    "# Recorrer la estructura del JSON\n",
    "for match_id, teams in data.items():\n",
    "    for team_id, team_info in teams.items():\n",
    "        team_details = team_info[\"team_details\"]\n",
    "        aggregate_stats = team_info[\"aggregate_stats\"]\n",
    "\n",
    "        # Recorrer cada jugador del equipo\n",
    "        for player_name, player_data in team_info[\"Player_stats\"].items():\n",
    "            player_details = player_data[\"player_details\"]\n",
    "            match_stats = player_data[\"Match_stats\"]\n",
    "\n",
    "            # Crear una fila con la información combinada\n",
    "            row = {\n",
    "                \"match_id\": match_id,\n",
    "                \"team_id\": team_details[\"team_id\"],\n",
    "                \"team_name\": team_details[\"team_name\"],\n",
    "                \"team_rating\": team_details[\"team_rating\"],\n",
    "                \"date\": team_details[\"date\"],\n",
    "                \"player_id\": player_details[\"player_id\"],\n",
    "                \"player_name\": player_details[\"player_name\"],\n",
    "                \"player_position\": player_details[\"player_position_info\"],\n",
    "                \"player_rating\": player_details[\"player_rating\"],\n",
    "            }\n",
    "\n",
    "            # Agregar estadísticas del equipo\n",
    "            row.update(aggregate_stats)\n",
    "\n",
    "            # Agregar estadísticas del jugador\n",
    "            row.update(match_stats)\n",
    "\n",
    "            matches.append(row)\n",
    "\n",
    "# Convertir la lista a un DataFrame\n",
    "df = pd.DataFrame(matches)\n",
    "\n",
    "# Guardar como CSV\n",
    "df.to_csv(\"season_stats_202501.csv\", index=False)\n",
    "\n",
    "print(\"Archivo CSV guardado correctamente.\")\n"
   ]
  },
  {
   "cell_type": "code",
   "execution_count": 18,
   "id": "65192d24",
   "metadata": {},
   "outputs": [],
   "source": [
    "import json\n",
    "import pandas as pd\n",
    "\n",
    "# Cargar el archivo JSON\n",
    "file_path = \"data_202501.json\"  # Cambia esto con la ruta de tu archivo\n",
    "with open(file_path, \"r\", encoding=\"utf-8\") as file:\n",
    "    data = json.load(file)"
   ]
  },
  {
   "cell_type": "code",
   "execution_count": 19,
   "id": "b01f93ec",
   "metadata": {},
   "outputs": [],
   "source": [
    "# Extraer diferentes secciones del JSON\n",
    "clubs = data.get(\"clubs\", {})\n",
    "players = data.get(\"players\", {})\n",
    "goals = data.get(\"goals\", {})\n",
    "assists = data.get(\"assists\", {})\n",
    "clean_sheets = data.get(\"clean_sheets\", {})\n",
    "own_goals = data.get(\"own_goals\", {})"
   ]
  },
  {
   "cell_type": "code",
   "execution_count": 20,
   "id": "3d428fa0",
   "metadata": {},
   "outputs": [],
   "source": [
    "# Convert each list to a DataFrame directly\n",
    "df_clubs = pd.DataFrame(clubs) if clubs else pd.DataFrame()\n",
    "df_players = pd.DataFrame(players) if players else pd.DataFrame()\n",
    "df_goals = pd.DataFrame(goals) if goals else pd.DataFrame()\n",
    "df_assists = pd.DataFrame(assists) if assists else pd.DataFrame()\n",
    "df_clean_sheets = pd.DataFrame(clean_sheets) if clean_sheets else pd.DataFrame()\n",
    "df_own_goals = pd.DataFrame(own_goals) if own_goals else pd.DataFrame()"
   ]
  },
  {
   "cell_type": "code",
   "execution_count": 21,
   "id": "1b65f415",
   "metadata": {},
   "outputs": [
    {
     "name": "stdout",
     "output_type": "stream",
     "text": [
      "CSV files have been saved successfully! 🚀\n"
     ]
    }
   ],
   "source": [
    "# Dictionary to store DataFrames\n",
    "dfs = {\n",
    "    \"clubs\": df_clubs,\n",
    "    \"players\": df_players,\n",
    "    \"goals\": df_goals,\n",
    "    \"assists\": df_assists,\n",
    "    \"clean_sheets\": df_clean_sheets,\n",
    "    \"own_goals\": df_own_goals,\n",
    "}\n",
    "\n",
    "# Save each DataFrame as a CSV\n",
    "for name, df in dfs.items():\n",
    "    if not df.empty:\n",
    "        df.to_csv(f\"{name}.csv\", index=False, encoding=\"utf-8\")\n",
    "\n",
    "print(\"CSV files have been saved successfully! 🚀\")"
   ]
  },
  {
   "cell_type": "code",
   "execution_count": 22,
   "id": "e6fdb6b4",
   "metadata": {},
   "outputs": [
    {
     "name": "stdout",
     "output_type": "stream",
     "text": [
      "Season fixtures saved as CSV successfully! 🚀\n"
     ]
    }
   ],
   "source": [
    "import json\n",
    "import pandas as pd\n",
    "\n",
    "# Extract season fixtures\n",
    "season_fixtures = data.get(\"season_fixtures\", [])\n",
    "\n",
    "# Flatten the data\n",
    "flattened_fixtures = []\n",
    "for matchday in season_fixtures:\n",
    "    matchday_number = matchday.get(\"matchday\")\n",
    "    upcoming = matchday.get(\"upcoming\")\n",
    "    total_goals = matchday.get(\"total_goals_scored\")\n",
    "    total_home_goals = matchday.get(\"total_home_goals_scored\")\n",
    "    total_away_goals = matchday.get(\"total_away_goals_scored\")\n",
    "    own_goals = matchday.get(\"number_of_own_goals\")\n",
    "\n",
    "    for fixture in matchday.get(\"fixtures\", []):\n",
    "        fixture_data = {\n",
    "            \"matchday\": matchday_number,\n",
    "            \"upcoming\": upcoming,\n",
    "            \"total_goals\": total_goals,\n",
    "            \"total_home_goals\": total_home_goals,\n",
    "            \"total_away_goals\": total_away_goals,\n",
    "            \"own_goals\": own_goals,\n",
    "            \"fixture_id\": fixture.get(\"id\"),\n",
    "            \"home_team\": fixture.get(\"home_team\"),\n",
    "            \"home_team_code\": fixture.get(\"home_team_code\"),\n",
    "            \"away_team\": fixture.get(\"away_team\"),\n",
    "            \"away_team_code\": fixture.get(\"away_team_code\"),\n",
    "            \"fixture_code\": fixture.get(\"fixture_code\"),\n",
    "            \"venue\": fixture.get(\"venue\"),\n",
    "            \"date\": fixture.get(\"date\"),\n",
    "            \"local_time\": fixture.get(\"local_time\"),\n",
    "            \"attendance\": fixture.get(\"attendance\"),\n",
    "            \"half_time_score\": fixture.get(\"half_time_score\"),\n",
    "            \"full_time_score\": fixture.get(\"full_time_score\"),\n",
    "            \"home_team_goals\": fixture.get(\"home_team_goals\"),\n",
    "            \"away_team_goals\": fixture.get(\"away_team_goals\"),\n",
    "            \"home_team_scorers\": \", \".join(fixture.get(\"home_team_scorers\", [])),  # Convert list to string\n",
    "            \"away_team_scorers\": \", \".join(fixture.get(\"away_team_scorers\", [])),\n",
    "            \"postponed\": fixture.get(\"postponed\"),\n",
    "            \"status\": fixture.get(\"status\"),\n",
    "        }\n",
    "        flattened_fixtures.append(fixture_data)\n",
    "\n",
    "# Convert to DataFrame\n",
    "df_season_fixtures = pd.DataFrame(flattened_fixtures)\n",
    "\n",
    "# Save to CSV\n",
    "df_season_fixtures.to_csv(\"season_fixtures.csv\", index=False, encoding=\"utf-8\")\n",
    "\n",
    "print(\"Season fixtures saved as CSV successfully! 🚀\")\n"
   ]
  },
  {
   "cell_type": "code",
   "execution_count": null,
   "id": "ce094f22",
   "metadata": {},
   "outputs": [],
   "source": []
  }
 ],
 "metadata": {
  "kernelspec": {
   "display_name": "Python 3",
   "language": "python",
   "name": "python3"
  },
  "language_info": {
   "codemirror_mode": {
    "name": "ipython",
    "version": 3
   },
   "file_extension": ".py",
   "mimetype": "text/x-python",
   "name": "python",
   "nbconvert_exporter": "python",
   "pygments_lexer": "ipython3",
   "version": "3.12.1"
  }
 },
 "nbformat": 4,
 "nbformat_minor": 5
}
